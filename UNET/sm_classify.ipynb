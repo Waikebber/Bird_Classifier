{
 "cells": [
  {
   "cell_type": "code",
   "execution_count": null,
   "metadata": {},
   "outputs": [],
   "source": [
    "import os\n",
    "\n",
    "import tensorflow as tf\n",
    "from tensorflow import keras\n",
    "os.environ[\"SM_FRAMEWORK\"] = \"tf.keras\" \n",
    "import segmentation_models as sm\n",
    "\n",
    "import numpy as np\n",
    "from data_loader import *"
   ]
  },
  {
   "cell_type": "code",
   "execution_count": null,
   "metadata": {},
   "outputs": [],
   "source": [
    "input_dir = \".\\\\..\\\\data\\\\datasets\\\\birds_dataset\\\\raw\\\\\"\n",
    "\n",
    "## Training image size\n",
    "# img_size = (1024, 1024)\n",
    "# img_size = (512, 512)\n",
    "img_size = (256, 256)\n",
    "# img_size = (128, 128)\n",
    "\n",
    "## Model Params\n",
    "BACKBONE = 'efficientnetb3'\n",
    "activation = 'softmax'\n",
    "\n",
    "## Model Checkpoint\n",
    "results_dir = \".\\\\results\\\\\"\n",
    "checkpoint = os.path.join(results_dir, '2023-07-25_23-13',\n",
    "                          '65_256x256_recent_short_soft_checkpoint')\n",
    "\n",
    "## Image path to predict\n",
    "image_path = '.\\\\tests\\\\barn_swallow_test.jpg'\n",
    "# '.\\\\tests\\\\'\n",
    "# '.\\\\tests\\\\barn_swallow_test.jpg'\n",
    "# '.\\\\tests\\\\6__American Coot.jpg'\n",
    "\n",
    "## Save Directory\n",
    "save = 'predicted_result'\n",
    "\n",
    "## Look up Bird online?\n",
    "look_up = True"
   ]
  },
  {
   "cell_type": "code",
   "execution_count": null,
   "metadata": {},
   "outputs": [],
   "source": [
    "## Make sure image and checkpoint exist\n",
    "if not os.path.exists(image_path):\n",
    "    raise FileNotFoundError(f\"Image {image_path} was not found.\")\n",
    "if not os.path.exists(checkpoint):\n",
    "    raise FileNotFoundError(f\"Checkpoint {checkpoint} was not found.\")"
   ]
  },
  {
   "cell_type": "code",
   "execution_count": null,
   "metadata": {},
   "outputs": [],
   "source": [
    "# Gets number of classes\n",
    "bird_categories = sorted(os.listdir(input_dir))\n",
    "bird_categories = [s for s in bird_categories if s != '.gitkeep']\n",
    "num_classes = len(bird_categories) + 1\n",
    "classes = ['Background'] + bird_categories"
   ]
  },
  {
   "cell_type": "code",
   "execution_count": null,
   "metadata": {},
   "outputs": [],
   "source": [
    "# Clear keras cache\n",
    "keras.backend.clear_session()"
   ]
  },
  {
   "cell_type": "code",
   "execution_count": null,
   "metadata": {},
   "outputs": [],
   "source": [
    "# Load Model or weights\n",
    "try:\n",
    "    model = tf.keras.models.load_model(checkpoint)\n",
    "except:\n",
    "    model = sm.Unet(\n",
    "        backbone_name=BACKBONE,\n",
    "        input_shape=img_size+(3,),\n",
    "        classes=num_classes,  \n",
    "        activation=activation\n",
    "    )\n",
    "    model.load_weights(checkpoint)"
   ]
  },
  {
   "cell_type": "code",
   "execution_count": null,
   "metadata": {},
   "outputs": [],
   "source": [
    "output_shape = model.output_shape\n",
    "if output_shape != (None,)+img_size + (num_classes,):\n",
    "    raise Exception(f\"Model Output Shape Doesn't Match Expected Output: \\\n",
    "                    \\n\\tOutput Shape:   {output_shape}\\n\\tExpected Shape: {(None,)+img_size + (num_classes,)}\")"
   ]
  },
  {
   "cell_type": "code",
   "execution_count": null,
   "metadata": {},
   "outputs": [],
   "source": [
    "# Create saving directory\n",
    "if not os.path.exists(save) or not os.path.isdir(save):\n",
    "        os.makedirs(save)"
   ]
  },
  {
   "cell_type": "code",
   "execution_count": null,
   "metadata": {},
   "outputs": [],
   "source": [
    "# Predicts a single image\n",
    "if os.path.isfile(image_path):\n",
    "    dataloader = Dataloader(batch_size=1, img_size=img_size, input_img_paths=[image_path])\n",
    "    bird_name = predict_im(model, dataloader, num_classes, img_size,classes)\n",
    "    predict_and_visualize(model, dataloader, num_classes, img_size,classes, save=os.path.join(save,os.path.basename(image_path)), show=True, title = bird_name)\n",
    "    if look_up:\n",
    "        bird_url(bird_name)"
   ]
  },
  {
   "cell_type": "code",
   "execution_count": null,
   "metadata": {},
   "outputs": [],
   "source": [
    "# Predicts a list of images\n",
    "if os.path.isdir(image_path) and not os.path.isfile(image_path):\n",
    "    for image_file in os.listdir(image_path):\n",
    "        if image_file.endswith(\".jpg\") or image_file.endswith(\".png\") or image_file.endswith(\".jpeg\"):\n",
    "            dataloader = Dataloader(batch_size=1, img_size=img_size, input_img_paths=[image_path+image_file])\n",
    "            bird_name = predict_im(model, dataloader, num_classes, img_size,classes)\n",
    "            predict_and_visualize(model, dataloader, num_classes, img_size,classes, save=os.path.join(save,image_file), show=False, title = bird_name)\n",
    "            if look_up:\n",
    "                bird_url(bird_name)"
   ]
  }
 ],
 "metadata": {
  "kernelspec": {
   "display_name": "train",
   "language": "python",
   "name": "python3"
  },
  "language_info": {
   "codemirror_mode": {
    "name": "ipython",
    "version": 3
   },
   "file_extension": ".py",
   "mimetype": "text/x-python",
   "name": "python",
   "nbconvert_exporter": "python",
   "pygments_lexer": "ipython3",
   "version": "3.9.16"
  },
  "orig_nbformat": 4
 },
 "nbformat": 4,
 "nbformat_minor": 2
}
