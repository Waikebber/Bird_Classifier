{
 "cells": [
  {
   "cell_type": "code",
   "execution_count": null,
   "metadata": {},
   "outputs": [],
   "source": [
    "\n",
    "import os, random\n",
    "from datetime import datetime\n",
    "\n",
    "import tensorflow as tf\n",
    "from tensorflow import keras\n",
    "os.environ[\"SM_FRAMEWORK\"] = \"tf.keras\" \n",
    "import segmentation_models as sm\n",
    "\n",
    "from tensorflow.keras import losses,callbacks\n",
    "from tensorflow.keras.preprocessing.image import ImageDataGenerator\n",
    "from tensorflow.keras.layers import Activation\n",
    "\n",
    "from data_loader import *\n",
    "\n",
    "tf.get_logger().setLevel(tf.compat.v1.logging.ERROR)\n",
    "\n",
    "import warnings\n",
    "warnings.filterwarnings('ignore')"
   ]
  },
  {
   "cell_type": "code",
   "execution_count": null,
   "metadata": {},
   "outputs": [],
   "source": [
    "## Training images and masks\n",
    "input_dir = \".\\\\..\\\\data\\\\datasets\\\\birds_dataset\\\\raw\\\\\"\n",
    "target_dir = '.\\\\..\\\\data\\\\datasets\\\\birds_dataset\\\\masks\\\\'\n",
    "\n",
    "## Training image size\n",
    "# img_size = (1024, 1024)\n",
    "# img_size = (512, 512)\n",
    "img_size = (256, 256)\n",
    "# img_size = (128, 128)\n",
    "\n",
    "## For metrics graphs\n",
    "curves =True\n",
    "\n",
    "## Model Params\n",
    "batch_size = 32\n",
    "total_epochs = 200\n",
    "epochs = total_epochs//2\n",
    "LR = 0.0001\n",
    "validation_percent = 0.2\n",
    "BACKBONE = 'efficientnetb3'\n",
    "activation = 'softmax'\n",
    "loss='categorical_crossentropy'\n",
    "metrics = [keras.metrics.CategoricalAccuracy(), \n",
    "           sm.metrics.IOUScore(class_weights=None), \n",
    "           sm.metrics.FScore(class_weights=None) ]\n",
    "\n",
    "## Model Checkpoint paths\n",
    "best_name = 'best_soft'\n",
    "recent_name = 'recent_soft'\n",
    "results_path = f'.\\\\results\\\\{datetime.now().replace(second=0).strftime(\"%Y-%m-%d_%H-%M\")}'\n",
    "best_path = f'{epochs}_{img_size[0]}x{img_size[1]}_{best_name}_checkpoint'\n",
    "recent_path = f'{epochs}_{img_size[0]}x{img_size[1]}_{recent_name}_checkpoint'\n"
   ]
  },
  {
   "cell_type": "code",
   "execution_count": null,
   "metadata": {},
   "outputs": [],
   "source": [
    "# Gets number of classes\n",
    "bird_categories = sorted(os.listdir(input_dir))\n",
    "bird_categories = [s for s in bird_categories if s != '.gitkeep']\n",
    "num_classes = len(bird_categories) +1 # add one for background"
   ]
  },
  {
   "cell_type": "code",
   "execution_count": null,
   "metadata": {},
   "outputs": [],
   "source": [
    "# Make Data lists. Images and Masks\n",
    "input_img_paths = sorted(\n",
    "    [\n",
    "        os.path.join(root, file) \n",
    "        for root, _, files in os.walk(input_dir) \n",
    "        for file in files \n",
    "        if file.lower().endswith('.jpg') and not file.startswith(\".\")\n",
    "    ]\n",
    ")\n",
    "target_img_paths = sorted(\n",
    "    [\n",
    "        os.path.join(root, file) \n",
    "        for root, _, files in os.walk(target_dir) \n",
    "        for file in files \n",
    "        if file.lower().endswith('.png') and not file.startswith(\".\")\n",
    "    ]\n",
    ")"
   ]
  },
  {
   "cell_type": "code",
   "execution_count": null,
   "metadata": {},
   "outputs": [],
   "source": [
    "## Find masks and images that aren't found in eachother's directories\n",
    "mismatched_paths =[]\n",
    "for im in input_img_paths:\n",
    "    im_mask = im.replace(target_dir, input_dir).replace('png','jpg')\n",
    "    if not os.path.exists(im_mask):\n",
    "        mismatched_paths.append(im)\n",
    "for im_mask in target_img_paths:\n",
    "    im = im.replace(input_dir, target_dir).replace('jpg','png')\n",
    "    if not os.path.exists(im):\n",
    "        mismatched_paths.append(im_mask)\n",
    "for path in  mismatched_paths:\n",
    "    print(\"Images do not match with masks:\", path)\n"
   ]
  },
  {
   "cell_type": "code",
   "execution_count": null,
   "metadata": {},
   "outputs": [],
   "source": [
    "## Makes sures there are the same number of images as masks\n",
    "if len(input_img_paths) != len(target_img_paths):\n",
    "    raise Exception(f\"ERROR: LABELS AND INPUTS HAVE DIFFERENT SIZES.\\n\\tInputs: {len(input_img_paths)}\\n\\tInputs: {len(target_img_paths)}\")"
   ]
  },
  {
   "cell_type": "code",
   "execution_count": null,
   "metadata": {},
   "outputs": [],
   "source": [
    "# Split our img paths into a training and a validation set\n",
    "val_samples = int(len(input_img_paths) * validation_percent)\n",
    "rand_seed = random.randint(0,2000000)\n",
    "random.Random(rand_seed).shuffle(input_img_paths)\n",
    "random.Random(rand_seed).shuffle(target_img_paths)\n",
    "\n",
    "train_input_img_paths = input_img_paths[:-val_samples]\n",
    "train_target_img_paths = target_img_paths[:-val_samples]\n",
    "val_input_img_paths = input_img_paths[-val_samples:]\n",
    "val_target_img_paths = target_img_paths[-val_samples:]\n",
    "\n",
    "## Raises Exception is a file in the training dataset is found in the validation\n",
    "for im in train_input_img_paths:\n",
    "    for val in val_input_img_paths:\n",
    "        if im==val:\n",
    "            raise Exception(\"ERROR: FILE IN BOTH TRAINING AND VALIDATION: \", im)"
   ]
  },
  {
   "cell_type": "code",
   "execution_count": null,
   "metadata": {},
   "outputs": [],
   "source": [
    "## Data Augmentations and Generators\n",
    "train_data_gen_args = dict(\n",
    "    rotation_range=20,\n",
    "    width_shift_range=0.2,\n",
    "    height_shift_range=0.2,\n",
    "    shear_range=0.2,\n",
    "    zoom_range=0.2,\n",
    "    horizontal_flip=True,\n",
    "    vertical_flip=True,\n",
    "    fill_mode='nearest'\n",
    ")\n",
    "train_data_gen = ImageDataGenerator(**train_data_gen_args)\n",
    "val_data_gen = ImageDataGenerator()"
   ]
  },
  {
   "cell_type": "code",
   "execution_count": null,
   "metadata": {},
   "outputs": [],
   "source": [
    "# Training and Validation\n",
    "train_gen = Dataloader(batch_size, img_size, train_input_img_paths, train_target_img_paths, num_classes,train_data_gen)\n",
    "val_gen = Dataloader(batch_size, img_size, val_input_img_paths, val_target_img_paths, num_classes,val_data_gen)\n"
   ]
  },
  {
   "cell_type": "code",
   "execution_count": null,
   "metadata": {},
   "outputs": [],
   "source": [
    "keras.backend.clear_session()"
   ]
  },
  {
   "cell_type": "code",
   "execution_count": null,
   "metadata": {},
   "outputs": [],
   "source": [
    "## Model Setup\n",
    "# Model Definition\n",
    "model = sm.Unet(\n",
    "    backbone_name=BACKBONE,\n",
    "    input_shape=img_size+(3,),\n",
    "    classes=num_classes,  \n",
    "    activation=activation\n",
    ")\n",
    "\n",
    "# Freeze the backbone layers\n",
    "for layer in model.layers:\n",
    "    if 'encoder' in layer.name:\n",
    "        layer.trainable = False\n",
    "\n",
    "# Compile the model\n",
    "model.compile(\n",
    "    optimizer=tf.keras.optimizers.Adam(LR),\n",
    "    loss=loss, \n",
    "    metrics=metrics\n",
    ")\n",
    "\n",
    "# Set callbacks checkpoints\n",
    "early_stopping_cb = tf.keras.callbacks.EarlyStopping(\n",
    "    monitor='val_loss', \n",
    "    patience=5, \n",
    "    restore_best_weights=True\n",
    ")\n",
    "callbacks = [\n",
    "    keras.callbacks.ModelCheckpoint(os.path.join(results_path,best_path), \n",
    "                                    monitor='val_loss',\n",
    "                                    mode='min',\n",
    "                                    save_best_only=True,\n",
    "                                    save_weights_only=True,\n",
    "                                    verbose=0\n",
    "                                    ),\n",
    "    keras.callbacks.ModelCheckpoint(os.path.join(results_path,recent_path)),\n",
    "    early_stopping_cb\n",
    "]"
   ]
  },
  {
   "cell_type": "code",
   "execution_count": null,
   "metadata": {},
   "outputs": [],
   "source": [
    "# Training\n",
    "history = model.fit(train_gen, \n",
    "                    epochs=epochs,\n",
    "                    validation_data=val_gen,\n",
    "                    callbacks=callbacks\n",
    "                    )"
   ]
  },
  {
   "cell_type": "code",
   "execution_count": null,
   "metadata": {},
   "outputs": [],
   "source": [
    "# Unfreeze the backbone model\n",
    "for layer in model.layers:\n",
    "    if 'encoder' in layer.name:\n",
    "        layer.trainable = True\n",
    "\n",
    "# Compile the model with a lower learning rate\n",
    "fine_tune_lr = LR / 10\n",
    "model.compile(\n",
    "    optimizer=tf.keras.optimizers.Adam(fine_tune_lr),\n",
    "    loss=loss, \n",
    "    metrics=metrics\n",
    ")"
   ]
  },
  {
   "cell_type": "code",
   "execution_count": null,
   "metadata": {},
   "outputs": [],
   "source": [
    "# Train with Backbone \n",
    "history_fine = model.fit(train_gen, \n",
    "                         epochs=epochs*2,\n",
    "                         initial_epoch=history.epoch[-1],\n",
    "                         validation_data=val_gen,\n",
    "                         callbacks=callbacks\n",
    "                         )"
   ]
  },
  {
   "cell_type": "code",
   "execution_count": null,
   "metadata": {},
   "outputs": [],
   "source": [
    "if curves:\n",
    "    plt.figure(figsize=(12, 12))\n",
    "    plt.subplot(2, 2, 1)\n",
    "    plt.plot(history.history['loss'], label='Training Loss')\n",
    "    plt.plot(history.history['val_loss'], label='Validation Loss')\n",
    "    plt.xlabel('Epoch')\n",
    "    plt.ylabel('Loss')\n",
    "    plt.legend()\n",
    "    plt.title('Training and Validation Loss')\n",
    "    plt.subplot(2, 2, 2)\n",
    "    plt.plot(history.history['iou_score'], label='Training IoU')\n",
    "    plt.plot(history.history['val_iou_score'], label='Validation IoU')\n",
    "    plt.xlabel('Epoch')\n",
    "    plt.ylabel('IoU Score')\n",
    "    plt.legend()\n",
    "    plt.title('Training and Validation IoU Score')\n",
    "    plt.subplot(2, 2, 3)\n",
    "    plt.plot(history.history['f1-score'], label='Training F1 Score')\n",
    "    plt.plot(history.history['val_f1-score'], label='Validation F1 Score')\n",
    "    plt.xlabel('Epoch')\n",
    "    plt.ylabel('F1 Score')\n",
    "    plt.legend()\n",
    "    plt.title('Training and Validation F1 Score')\n",
    "    plt.subplot(2, 2, 4)\n",
    "    plt.plot(history.history['categorical_accuracy'], label='Training Accuracy')\n",
    "    plt.plot(history.history['val_categorical_accuracy'], label='Validation Accuracy')\n",
    "    plt.xlabel('Epoch')\n",
    "    plt.ylabel('Accuracy')\n",
    "    plt.legend()\n",
    "    plt.title('Training and Validation Accuracy')\n",
    "\n",
    "    plt.tight_layout()\n",
    "    plt.savefig(os.path.join(results_path,'training_metrics.png'))\n",
    "    plt.show()"
   ]
  }
 ],
 "metadata": {
  "kernelspec": {
   "display_name": "birds",
   "language": "python",
   "name": "python3"
  },
  "language_info": {
   "codemirror_mode": {
    "name": "ipython",
    "version": 3
   },
   "file_extension": ".py",
   "mimetype": "text/x-python",
   "name": "python",
   "nbconvert_exporter": "python",
   "pygments_lexer": "ipython3",
   "version": "3.9.16"
  },
  "orig_nbformat": 4
 },
 "nbformat": 4,
 "nbformat_minor": 2
}
