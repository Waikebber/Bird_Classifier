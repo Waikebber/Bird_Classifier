{
 "cells": [
  {
   "cell_type": "code",
   "execution_count": null,
   "metadata": {},
   "outputs": [],
   "source": [
    "import os, shutil\n",
    "from PIL import Image\n",
    "import numpy as np\n",
    "import tensorflow as tf\n",
    "from tensorflow import keras\n",
    "os.environ[\"SM_FRAMEWORK\"] = \"tf.keras\"\n",
    "import segmentation_models as sm\n",
    "from tqdm import tqdm\n",
    "\n",
    "from binary_data_loader import *"
   ]
  },
  {
   "cell_type": "code",
   "execution_count": null,
   "metadata": {},
   "outputs": [],
   "source": [
    "## Training image size\n",
    "# img_size = (1024, 1024)\n",
    "# img_size = (512, 512)\n",
    "img_size = (256, 256)\n",
    "# img_size = (128, 128)\n",
    "\n",
    "## Model Params\n",
    "BACKBONE = 'efficientnetb3'\n",
    "activation = 'sigmoid'\n",
    "num_classes = 2\n",
    "\n",
    "## Model Checkpoint\n",
    "checkpoint_dir = \".\\\\results\\\\\"\n",
    "checkpoint = os.path.join(checkpoint_dir,'2023-07-25_18-29','20_256x256_recent_small_bin_checkpoint')\n",
    "\n",
    "## Manually created masks to move into large dataset\n",
    "small_dataset = '.\\\\..\\\\..\\\\data\\\\datasets\\\\small_birds_dataset\\\\'\n",
    "small_masks = os.path.join(small_dataset, 'masks')\n",
    "\n",
    "## Large dataset to create masks for\n",
    "dataset_dir = '.\\\\..\\\\..\\\\data\\\\datasets\\\\birds_dataset\\\\'\n",
    "image_dir = os.path.join(dataset_dir, 'raw')\n",
    "mask_dir = os.path.join(dataset_dir, 'masks')\n"
   ]
  },
  {
   "cell_type": "code",
   "execution_count": null,
   "metadata": {},
   "outputs": [],
   "source": [
    "## Make sure image and checkpoint exist\n",
    "if not os.path.exists(dataset_dir):\n",
    "    raise FileNotFoundError(f\"Dataset directory {dataset_dir} was not found.\")\n",
    "if not os.path.exists(checkpoint):\n",
    "    raise FileNotFoundError(f\"Checkpoint {checkpoint} was not found.\")"
   ]
  },
  {
   "cell_type": "code",
   "execution_count": null,
   "metadata": {},
   "outputs": [],
   "source": [
    "# Clear keras cache\n",
    "keras.backend.clear_session()"
   ]
  },
  {
   "cell_type": "code",
   "execution_count": null,
   "metadata": {},
   "outputs": [],
   "source": [
    "# Load Model or weights\n",
    "try:\n",
    "    model = tf.keras.models.load_model(checkpoint)\n",
    "except:\n",
    "    model = sm.Unet(\n",
    "        backbone_name=BACKBONE,\n",
    "        input_shape=img_size+(3,),\n",
    "        classes=num_classes,  \n",
    "        activation=activation\n",
    "    )\n",
    "    model.load_weights(checkpoint)"
   ]
  },
  {
   "cell_type": "code",
   "execution_count": null,
   "metadata": {},
   "outputs": [],
   "source": [
    "def predict_save(image_path, output_mask_path, model, threshold = 0.5, visible = False):\n",
    "    \"\"\" Create a prediction of an image and save the image. Uses the given model with a percentage threshold.\n",
    "\n",
    "    Args:\n",
    "        image_path (str): Path to image for prediction\n",
    "        output_mask_path (str): Save path for predicted mask image\n",
    "        model (sm.UNET): Segmentations model unet\n",
    "        threshold (float, optional): A percentage to allow for the binary value. Defaults to 0.5.\n",
    "        visible (bool, optional): If True, makes the mask visible. Defaults to False.\n",
    "    \"\"\"    \n",
    "    dataloader = Dataloader(batch_size=1, img_size=img_size, input_img_paths=[image_path])\n",
    "    predictions = model.predict(dataloader)\n",
    "    binary_mask = (predictions > threshold).astype(np.uint8)\n",
    "    binary_mask_resized = tf.image.resize(binary_mask, Image.open(image_path).size[::-1], method=tf.image.ResizeMethod.NEAREST_NEIGHBOR).numpy().astype(np.uint8)\n",
    "    if visible:\n",
    "        output_mask = Image.fromarray((binary_mask_resized.squeeze()*255).astype(np.uint8))\n",
    "    else:\n",
    "        output_mask = Image.fromarray((binary_mask_resized.squeeze()).astype(np.uint8))\n",
    "    output_mask = output_mask.convert('P')\n",
    "    output_mask.save(output_mask_path)"
   ]
  },
  {
   "cell_type": "code",
   "execution_count": null,
   "metadata": {},
   "outputs": [],
   "source": [
    "## Shows an image and its mask\n",
    "# threshold=0.44\n",
    "# output_mask_path = 'path_to_save_binary_mask.png'\n",
    "# image_path = './tests/3__Greater Scaup.jpg'\n",
    "# predict_save(image_path, output_mask_path, threshold, True)\n",
    "\n",
    "# fig, axs = plt.subplots(1, 2, figsize=(12, 6))\n",
    "# original_im = Image.open(image_path)\n",
    "# axs[0].imshow(original_im)\n",
    "# axs[0].set_title('Original Image')\n",
    "# axs[0].axis('off')\n",
    "# test_im = Image.open(output_mask_path)\n",
    "# axs[1].imshow(test_im, cmap='gray')\n",
    "# axs[1].set_title('Predicted Mask')\n",
    "# axs[1].axis('off')\n",
    "# plt.show()"
   ]
  },
  {
   "cell_type": "code",
   "execution_count": null,
   "metadata": {},
   "outputs": [],
   "source": [
    "## Moves Manually Created Masks from Smaller Dataset into Larger Dataset\n",
    "for classes in tqdm(os.listdir(small_masks)):\n",
    "    if classes != '.gitkeep':\n",
    "        for mask in os.listdir(os.path.join(small_masks,classes)):\n",
    "            small_mask = os.path.join(small_masks,classes,mask)\n",
    "            large_mask = os.path.join(mask_dir, classes,mask)\n",
    "            shutil.copy2(small_mask,large_mask)\n",
    "        "
   ]
  },
  {
   "cell_type": "code",
   "execution_count": null,
   "metadata": {},
   "outputs": [],
   "source": [
    "# Saves masks to Dataset with same name as image\n",
    "for classes in tqdm(os.listdir(image_dir)):\n",
    "    if classes != '.gitkeep':\n",
    "        im_class = os.path.join(image_dir, classes)\n",
    "        mask_class = os.path.join(mask_dir, classes)\n",
    "        for im in os.listdir(im_class):\n",
    "            orig_im = os.path.join(im_class,im)\n",
    "            save_im = os.path.join(mask_class, im.replace('jpg','png'))\n",
    "            if not os.path.exists(save_im):\n",
    "                predict_save(orig_im, save_im, model, threshold=0.45)"
   ]
  }
 ],
 "metadata": {
  "kernelspec": {
   "display_name": "model",
   "language": "python",
   "name": "python3"
  },
  "language_info": {
   "codemirror_mode": {
    "name": "ipython",
    "version": 3
   },
   "file_extension": ".py",
   "mimetype": "text/x-python",
   "name": "python",
   "nbconvert_exporter": "python",
   "pygments_lexer": "ipython3",
   "version": "3.9.16"
  },
  "orig_nbformat": 4
 },
 "nbformat": 4,
 "nbformat_minor": 2
}
