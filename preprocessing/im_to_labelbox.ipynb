{
 "cells": [
  {
   "cell_type": "code",
   "execution_count": null,
   "metadata": {},
   "outputs": [],
   "source": [
    "import os\n",
    "from labelbox_class import LabelBox, remove_all\n",
    "from tqdm import tqdm"
   ]
  },
  {
   "cell_type": "code",
   "execution_count": null,
   "metadata": {},
   "outputs": [],
   "source": [
    "## Necessary Inputs\n",
    "# LabelBox API Key\n",
    "api_key = ''\n",
    "\n",
    "# Directory to the raw data in the dataset (for uploading)\n",
    "raw_dir = \".\\\\..\\\\data\\\\datasets\\\\full_birds_dataset\\\\raw\\\\\"\n",
    "\n",
    "# LabelBox Project and Ontology Name\n",
    "project_name = \"Birds\"\n",
    "ontology_name = \"Birds\"\n",
    "\n",
    "# TXT file to be made with project and ontology IDs within it\n",
    "proj_id_txt = \".\\\\..\\\\data\\\\projects\\\\\"+project_name+\".txt\"\n",
    "\n",
    "## !! DANGER ZONE\n",
    "DELETE_EVERYTHING = False"
   ]
  },
  {
   "cell_type": "code",
   "execution_count": null,
   "metadata": {},
   "outputs": [],
   "source": [
    "# Deletes all projects, datasets, and ontologies from user LabelBox\n",
    "if DELETE_EVERYTHING:\n",
    "    remove_all(api_key, ontology_name=ontology_name)"
   ]
  },
  {
   "cell_type": "code",
   "execution_count": null,
   "metadata": {},
   "outputs": [],
   "source": [
    "# Creates LabelBox Project, Datasets, and Ontology\n",
    "labels = LabelBox(api_key, raw_dir, project_name,ontology_name)"
   ]
  },
  {
   "cell_type": "code",
   "execution_count": null,
   "metadata": {},
   "outputs": [],
   "source": [
    "# Finds all images that could not be uploaded to LabelBox\n",
    "rm_lst = []\n",
    "for error in tqdm(labels.find_error_sets()):\n",
    "    data_lst = [ os.path.join(raw_dir, error.replace(\"-s \", \"'s \"),x) for x in os.listdir(os.path.join(raw_dir, error.replace(\"-s \", \"'s \")))]\n",
    "    rm_lst.append(labels.labelbox_dataset_lst(error.replace(\"-s \", \"'s \"), data_lst))"
   ]
  },
  {
   "cell_type": "code",
   "execution_count": null,
   "metadata": {},
   "outputs": [],
   "source": [
    "# Removes images that could not be uploaded from the dataset \n",
    "for im_lst in rm_lst:\n",
    "    for im in im_lst:\n",
    "        print(im)\n",
    "        os.remove(im)"
   ]
  },
  {
   "cell_type": "code",
   "execution_count": null,
   "metadata": {},
   "outputs": [],
   "source": [
    "# Creates TXT file with project and ontolgy IDs\n",
    "if os.path.exists(proj_id_txt):\n",
    "    valid_path = False\n",
    "    count = 0\n",
    "    while not valid_path:\n",
    "        new_name =  proj_id_txt.split(\".txt\")[0] + str(count) + \".txt\"\n",
    "        if not os.path.exists(new_name):\n",
    "            valid_path = True\n",
    "    proj_id_txt = new_name\n",
    "    \n",
    "with open(proj_id_txt, 'w') as f:\n",
    "    f.write(\"Project_name:\"+project_name+\", Project_id:\"+labels.project.uid+\"\\n\"+\n",
    "            \"Ontology_name:\"+ontology_name+\", Ontology_id:\"+labels.ontology)\n",
    "print(\"Project ID: \",labels.project.uid)\n",
    "print(\"Ontology ID: \", labels.ontology)\n",
    "print(\"File made at: \", proj_id_txt)"
   ]
  }
 ],
 "metadata": {
  "kernelspec": {
   "display_name": "Python 3",
   "language": "python",
   "name": "python3"
  },
  "language_info": {
   "codemirror_mode": {
    "name": "ipython",
    "version": 3
   },
   "file_extension": ".py",
   "mimetype": "text/x-python",
   "name": "python",
   "nbconvert_exporter": "python",
   "pygments_lexer": "ipython3",
   "version": "3.9.17"
  },
  "orig_nbformat": 4
 },
 "nbformat": 4,
 "nbformat_minor": 2
}
