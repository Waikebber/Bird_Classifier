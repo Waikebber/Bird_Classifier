{
 "cells": [
  {
   "cell_type": "code",
   "execution_count": null,
   "metadata": {},
   "outputs": [],
   "source": [
    "import os, string\n",
    "from labelbox_class import *\n",
    "from utils import *\n",
    "import numpy as np\n",
    "from PIL import Image"
   ]
  },
  {
   "cell_type": "code",
   "execution_count": null,
   "metadata": {},
   "outputs": [],
   "source": [
    "# Necessary inputs\n",
    "api_key = ''\n",
    "proj_id = ''\n",
    "\n",
    "dataset_dir = '.\\\\..\\\\data\\\\datasets\\\\smaller_birds_dataset\\\\'\n",
    "\n",
    "#'..\\\\data\\\\bird_lists\\\\bay_area_birds.txt'\n",
    "birds_txt = '..\\\\data\\\\datasets\\\\smaller_birds_dataset\\\\short_bay_area_birds.txt'\n",
    "\n",
    "raw_dir = dataset_dir + 'raw\\\\'\n",
    "masks_dir = dataset_dir + 'masks\\\\'\n",
    "training_dir = dataset_dir + 'training\\\\'\n",
    "\n",
    "proj_name ='Short_Birds'\n",
    "ndjson_file = dataset_dir + proj_name+ '.ndjson'\n",
    "\n",
    "## !!! DANGER ZONE\n",
    "clear_dirs = False"
   ]
  },
  {
   "cell_type": "code",
   "execution_count": null,
   "metadata": {},
   "outputs": [],
   "source": [
    "## Clear dir\n",
    "if clear_dirs:\n",
    "    clear_dir(training_dir, [])\n",
    "    clear_dir(masks_dir,[])"
   ]
  },
  {
   "cell_type": "code",
   "execution_count": null,
   "metadata": {},
   "outputs": [],
   "source": [
    "# Finds all classes in the the dataset\n",
    "birds = []\n",
    "with open(birds_txt) as f:\n",
    "    if f.readable() is False:\n",
    "        raise FileNotFoundError(\"ERROR: File is not a readable file.\")\n",
    "    birds = f.readlines()\n",
    "birds = [ string.capwords(x.strip()) for x in birds]\n",
    "birds.sort()"
   ]
  },
  {
   "cell_type": "code",
   "execution_count": null,
   "metadata": {},
   "outputs": [],
   "source": [
    "# Creates necessary directories in dataset directory\n",
    "for bird in birds:\n",
    "    if not os.path.exists(training_dir + bird + '\\\\'):\n",
    "        os.makedirs(training_dir + bird + '\\\\')\n",
    "    if not os.path.exists(masks_dir + bird + '\\\\'):\n",
    "        os.makedirs(masks_dir + bird + '\\\\')"
   ]
  },
  {
   "cell_type": "code",
   "execution_count": null,
   "metadata": {},
   "outputs": [],
   "source": [
    "# Makes a LabelBox Object from the project ID\n",
    "labels = LabelBox(api_key=api_key, proj_id=proj_id)\n",
    "\n",
    "# Exports the labels for the project that are marked as done to a ndjson file\n",
    "labels.labelbox_export_labels(ndjson_file)"
   ]
  },
  {
   "cell_type": "code",
   "execution_count": null,
   "metadata": {},
   "outputs": [],
   "source": [
    "# Create bounds dictionary from ndjson\n",
    "print(f'{count_ndjson_lines(ndjson_file)} iterations')\n",
    "bounds = labels.ndjson_get_bounds(ndjson_file)"
   ]
  },
  {
   "cell_type": "code",
   "execution_count": null,
   "metadata": {},
   "outputs": [],
   "source": [
    "# Creates masks from bounds dictionary\n",
    "masks = {key: create_mask(bounds[key]['polygon'], bounds[key]['width'], bounds[key]['height']) for key in bounds}"
   ]
  },
  {
   "cell_type": "code",
   "execution_count": null,
   "metadata": {},
   "outputs": [],
   "source": [
    "# Create PNGs of masks, one with data written directly to it and another viewable one\n",
    "for key in masks.keys():\n",
    "    masks[key].save(os.path.join(masks_dir, key.split('__')[1].replace('.jpg',''), key.replace('.jpg','')+'.png'))"
   ]
  }
 ],
 "metadata": {
  "kernelspec": {
   "display_name": "birds",
   "language": "python",
   "name": "python3"
  },
  "language_info": {
   "codemirror_mode": {
    "name": "ipython",
    "version": 3
   },
   "file_extension": ".py",
   "mimetype": "text/x-python",
   "name": "python",
   "nbconvert_exporter": "python",
   "pygments_lexer": "ipython3",
   "version": "3.9.17"
  },
  "orig_nbformat": 4
 },
 "nbformat": 4,
 "nbformat_minor": 2
}
