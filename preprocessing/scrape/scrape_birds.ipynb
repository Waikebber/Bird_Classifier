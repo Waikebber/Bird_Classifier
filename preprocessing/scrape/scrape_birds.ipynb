{
 "cells": [
  {
   "cell_type": "code",
   "execution_count": 15,
   "metadata": {},
   "outputs": [],
   "source": [
    "import os, string\n",
    "import ggl_img_scraper as ggl\n",
    "from tqdm import tqdm\n",
    "from utils import *"
   ]
  },
  {
   "cell_type": "code",
   "execution_count": 13,
   "metadata": {},
   "outputs": [],
   "source": [
    "# Necessary inputs\n",
    "ggl_api_key = ''\n",
    "search_engine_id = 'f1aca5d66c8d4435c'\n",
    "\n",
    "dataset_dir = '..\\\\data\\\\datasets\\\\smaller_birds_dataset\\\\'\n",
    "raw_dir = dataset_dir + 'raw\\\\'\n",
    "masks_dir = dataset_dir + 'masks\\\\'\n",
    "\n",
    "num_images = 75\n",
    "#'..\\\\data\\\\bird_lists\\\\bay_area_birds.txt'\n",
    "birds_txt = '..\\\\data\\\\bird_lists\\\\short_bay_area_birds.txt'\n",
    "db_name = \".\\\\bird_im_urls.db\"\n",
    "\n",
    "buffer = 5\n",
    "\n",
    "## !!! DANGER ZONE\n",
    "clear_dirs = False\n",
    "remove_db = False"
   ]
  },
  {
   "cell_type": "code",
   "execution_count": 14,
   "metadata": {},
   "outputs": [],
   "source": [
    "## Clear dir\n",
    "if clear_dirs:\n",
    "    clear_dir(raw_dir, [])\n",
    "    clear_dir(masks_dir,[])\n",
    "if remove_db and os.path.exists(db_name):\n",
    "    os.remove(db_name)\n",
    "    if os.path.exists(db_name+\"-journal\"):\n",
    "        os.remove(db_name+\"-journal\")"
   ]
  },
  {
   "cell_type": "code",
   "execution_count": 16,
   "metadata": {},
   "outputs": [],
   "source": [
    "# Read-in txt file of bird names\n",
    "# File must be new-line delimited\n",
    "birds = []\n",
    "with open(birds_txt) as f:\n",
    "    if f.readable() is False:\n",
    "        raise FileNotFoundError(\"ERROR: File is not a readable file.\")\n",
    "    birds = f.readlines()\n",
    "birds = [ string.capwords(x.strip()) for x in birds]\n",
    "birds.sort()"
   ]
  },
  {
   "cell_type": "code",
   "execution_count": 12,
   "metadata": {},
   "outputs": [],
   "source": [
    "# Make a directory for every bird in the list in the training and validation directories\n",
    "for bird in birds:\n",
    "    if not os.path.exists(raw_dir + bird + '\\\\'):\n",
    "        os.makedirs(raw_dir + bird + '\\\\')\n",
    "    if not os.path.exists(masks_dir + bird + '\\\\'):\n",
    "        os.makedirs(masks_dir + bird + '\\\\')"
   ]
  },
  {
   "cell_type": "code",
   "execution_count": null,
   "metadata": {},
   "outputs": [],
   "source": [
    "retry_lst = {}"
   ]
  },
  {
   "cell_type": "code",
   "execution_count": null,
   "metadata": {},
   "outputs": [],
   "source": [
    "# Get Images for each bird from Google Images\n",
    "for bird in tqdm(birds):\n",
    "        search_query = f\"real '{str(bird).strip()}' bird -drawing -map -cartoon -logo -baby -egg -painting -pattern -illustration -art -similar -information -creative -general -book -math -product -food -feed -help -zoologist -list -bingo -tattoo -ranch -cowboy -nest -jewelry -necklace -sports\"\n",
    "        save_dir = raw_dir + '\\\\'+bird+'\\\\'\n",
    "    saved = ggl.google_image_download(query=search_query, save_directory=save_dir, api_key=ggl_api_key, cx=search_engine_id, n=num_images, name=bird, db_name=db_name,delay=None, mute=True)\n",
    "    if (len(saved)+buffer)  < num_images:\n",
    "        retry_lst[bird] = saved"
   ]
  },
  {
   "cell_type": "code",
   "execution_count": null,
   "metadata": {},
   "outputs": [],
   "source": [
    "# Counts directories for correct number of images\n",
    "count_jpg_images(raw_dir, num_images, buffer = buffer,raise_e = False)"
   ]
  },
  {
   "cell_type": "code",
   "execution_count": null,
   "metadata": {},
   "outputs": [],
   "source": [
    "print(len(retry_lst))\n",
    "print(retry_lst)"
   ]
  },
  {
   "cell_type": "code",
   "execution_count": null,
   "metadata": {},
   "outputs": [],
   "source": [
    "# Retry getting images for brids in the list with a slightly different query\n",
    "for bird in tqdm(retry_lst.keys()):\n",
    "    search_query = str(bird)\n",
    "    save_dir = raw_dir + '\\\\'+str(bird)+'\\\\'\n",
    "    saved = ggl.google_image_download(query=search_query, save_directory=save_dir, api_key=ggl_api_key, cx=search_engine_id, n=num_images-retry_lst[bird], name=bird, db_name=db_name,delay=None, exclude_urls=retry_lst[bird])\n",
    "    if (len(saved)+retry_lst[bird]+buffer) < num_images:\n",
    "        print(saved)\n",
    "        print(bird + \" saved \" + str(len(saved)+retry_lst[bird]) + \" not \" + str(num_images))\n",
    "    "
   ]
  },
  {
   "cell_type": "code",
   "execution_count": null,
   "metadata": {},
   "outputs": [],
   "source": [
    "input_img_paths = sorted(\n",
    "    [\n",
    "        os.path.join(root, file) \n",
    "        for root, _, files in os.walk(raw_dir) \n",
    "        for file in files \n",
    "        if file.lower().endswith('.jpg') and not file.startswith(\".\")\n",
    "    ]\n",
    ")"
   ]
  },
  {
   "cell_type": "code",
   "execution_count": null,
   "metadata": {},
   "outputs": [],
   "source": [
    "## Converts Images to RGB mode\n",
    "error_ims = [convert_image_mode(input_img) for input_img in input_img_paths if convert_image_mode(input_img, 'RGB') is not None]"
   ]
  },
  {
   "cell_type": "code",
   "execution_count": null,
   "metadata": {},
   "outputs": [],
   "source": [
    "print(\"ERROR Removing:\\n\")\n",
    "print(error_ims)"
   ]
  },
  {
   "cell_type": "code",
   "execution_count": null,
   "metadata": {},
   "outputs": [],
   "source": [
    "# Removes files that couldn't convert to RGB mode\n",
    "for im in error_ims:\n",
    "    if os.path.exists(im):\n",
    "        os.remove(im)\n",
    "    else:\n",
    "        print(\"ERROR REMOVEING: \", im)"
   ]
  },
  {
   "cell_type": "markdown",
   "metadata": {},
   "source": [
    "#### REMOVE AND BAD DATA DOWNLOADED FROM SCRAPER BEFORE CONTINUING"
   ]
  }
 ],
 "metadata": {
  "kernelspec": {
   "display_name": "birds",
   "language": "python",
   "name": "python3"
  },
  "language_info": {
   "codemirror_mode": {
    "name": "ipython",
    "version": 3
   },
   "file_extension": ".py",
   "mimetype": "text/x-python",
   "name": "python",
   "nbconvert_exporter": "python",
   "pygments_lexer": "ipython3",
   "version": "3.9.17"
  },
  "orig_nbformat": 4
 },
 "nbformat": 4,
 "nbformat_minor": 2
}
