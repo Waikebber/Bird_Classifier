{
 "cells": [
  {
   "cell_type": "code",
   "execution_count": null,
   "metadata": {},
   "outputs": [],
   "source": [
    "import os, string, glob, random, shutil, base64\n",
    "import ggl_img_scraper as ggl\n",
    "from PIL import Image\n",
    "from tqdm import tqdm\n",
    "from utils import *"
   ]
  },
  {
   "cell_type": "code",
   "execution_count": null,
   "metadata": {},
   "outputs": [],
   "source": [
    "# Necessary inputs\n",
    "ggl_api_key = ''\n",
    "search_engine_id = 'f1aca5d66c8d4435c'\n",
    "\n",
    "raw_dir = '..\\\\data\\\\raw\\\\'\n",
    "training_dir = '..\\\\data\\\\training\\\\'\n",
    "validation_dir = '..\\\\data\\\\validation\\\\'\n",
    "\n",
    "validation_split = .15  # Takes images for validation\n",
    "\n",
    "num_images = 5\n",
    "birds_txt = '..\\\\data\\\\bird_lists\\\\bay_area_birds.txt'\n",
    "db_name = \".\\\\bird_im_urls.db\"\n",
    "\n",
    "clear_dirs = True\n",
    "remove_db = True"
   ]
  },
  {
   "cell_type": "code",
   "execution_count": null,
   "metadata": {},
   "outputs": [],
   "source": [
    "## Clear dir\n",
    "if clear_dirs:\n",
    "    clear_dir(raw_dir, [])\n",
    "    clear_dir(training_dir, [])\n",
    "    clear_dir(validation_dir, [])\n",
    "if remove_db and os.path.exists(db_name):\n",
    "    os.remove(db_name)\n",
    "    if os.path.exists(db_name+\"-journal\"):\n",
    "        os.remove(db_name+\"-journal\")"
   ]
  },
  {
   "cell_type": "code",
   "execution_count": null,
   "metadata": {},
   "outputs": [],
   "source": [
    "# Read-in txt file of bird names\n",
    "# File must be new-line delimited\n",
    "birds = []\n",
    "with open(birds_txt) as f:\n",
    "    if f.readable() is False:\n",
    "        raise FileNotFoundError(\"ERROR: File is not a readable file.\")\n",
    "    birds = f.readlines()\n",
    "birds = [ string.capwords(x.strip()) for x in birds]\n",
    "birds.sort()"
   ]
  },
  {
   "cell_type": "code",
   "execution_count": null,
   "metadata": {},
   "outputs": [],
   "source": [
    "# Make a directory for every bird in the list in the training and validation directories\n",
    "for bird in birds:\n",
    "    if not os.path.exists(raw_dir + bird + '\\\\'):\n",
    "        os.makedirs(raw_dir + bird + '\\\\')\n",
    "    if not os.path.exists(training_dir + bird + '\\\\'):\n",
    "        os.makedirs(training_dir + bird + '\\\\')\n",
    "    if not os.path.exists(validation_dir + bird + '\\\\'):\n",
    "        os.makedirs(validation_dir + bird + '\\\\')"
   ]
  },
  {
   "cell_type": "code",
   "execution_count": null,
   "metadata": {},
   "outputs": [],
   "source": [
    "# Get Images for each bird from Google Images\n",
    "for bird in tqdm(birds):\n",
    "    search_query = '\"' + bird + '\"' + \" bird\"\n",
    "    save_dir = raw_dir + '\\\\'+bird+'\\\\'\n",
    "    saved = ggl.google_image_download(query=search_query, save_directory=save_dir, api_key=ggl_api_key, cx=search_engine_id, n=num_images, name=bird, db_name=db_name,delay=100)\n",
    "    if len(saved) != num_images:\n",
    "        print(saved)\n",
    "        print(bird + \" saved \" + str(len(saved)) + \" not \" + str(num_images))"
   ]
  },
  {
   "cell_type": "code",
   "execution_count": null,
   "metadata": {},
   "outputs": [],
   "source": [
    "# Counts directories for correct number of images\n",
    "count_jpg_images(raw_dir, num_images, raise_e = False)"
   ]
  },
  {
   "cell_type": "code",
   "execution_count": null,
   "metadata": {},
   "outputs": [],
   "source": [
    "# Normalize Every Image to RGB\n",
    "for image_path in glob.glob(raw_dir + '*\\\\*.jpg'):\n",
    "    try:\n",
    "        image = Image.open(image_path)\n",
    "        image = image.convert(\"RGB\")\n",
    "        image.save(image_path.replace(raw_dir, training_dir))\n",
    "    except Exception as e:\n",
    "        print(f\"ERROR: \", image_path)\n",
    "        print(e)"
   ]
  },
  {
   "cell_type": "code",
   "execution_count": null,
   "metadata": {},
   "outputs": [],
   "source": [
    "# Make Training and Validation Split\n",
    "for bird in birds:\n",
    "    val_imgs = []\n",
    "    num = None\n",
    "    while len(val_imgs) < round(num_images * validation_split):\n",
    "        num = random.randint(1, num_images)\n",
    "        if num not in val_imgs:\n",
    "            val_imgs.append(num)\n",
    "            shutil.move(os.path.join(training_dir,bird, str(num)+\"__\"+bird+ '.jpg'),\n",
    "                        os.path.join(validation_dir,bird, str(num)+\"__\"+bird+ '.jpg'))\n",
    "        "
   ]
  }
 ],
 "metadata": {
  "kernelspec": {
   "display_name": "birds",
   "language": "python",
   "name": "python3"
  },
  "language_info": {
   "codemirror_mode": {
    "name": "ipython",
    "version": 3
   },
   "file_extension": ".py",
   "mimetype": "text/x-python",
   "name": "python",
   "nbconvert_exporter": "python",
   "pygments_lexer": "ipython3",
   "version": "3.11.4"
  },
  "orig_nbformat": 4
 },
 "nbformat": 4,
 "nbformat_minor": 2
}
