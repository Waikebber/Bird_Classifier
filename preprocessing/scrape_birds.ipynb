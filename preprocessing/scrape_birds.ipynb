{
 "cells": [
  {
   "cell_type": "code",
   "execution_count": null,
   "metadata": {},
   "outputs": [],
   "source": [
    "import os, string, time, glob, random, shutil\n",
    "import ggl_img_scraper as ggl\n",
    "from PIL import Image\n",
    "from tqdm import tqdm"
   ]
  },
  {
   "cell_type": "code",
   "execution_count": null,
   "metadata": {},
   "outputs": [],
   "source": [
    "# Necessary inputs\n",
    "ggl_api_key = ''\n",
    "search_engine_id = 'f1aca5d66c8d4435c'\n",
    "\n",
    "raw_dir = '..\\\\data\\\\raw\\\\'\n",
    "training_dir = '..\\\\data\\\\training\\\\'\n",
    "validation_dir = '..\\\\data\\\\validation\\\\'\n",
    "\n",
    "validation_split = .20  # Takes 1/5 of the images for validation\n",
    "\n",
    "num_images = 10\n",
    "birds_txt = '..\\\\data\\\\bird_lists\\\\birds.txt'\n",
    "db_name = \".\\\\bird_im_urls.db\""
   ]
  },
  {
   "cell_type": "code",
   "execution_count": null,
   "metadata": {},
   "outputs": [],
   "source": [
    "# Read-in txt file of bird names\n",
    "# File must be new-line delimited\n",
    "birds = []\n",
    "with open(birds_txt) as f:\n",
    "    if f.readable() is False:\n",
    "        raise FileNotFoundError(\"ERROR: File is not a readable file.\")\n",
    "    birds = f.readlines()\n",
    "birds = [ string.capwords(x.strip()) for x in birds]"
   ]
  },
  {
   "cell_type": "code",
   "execution_count": null,
   "metadata": {},
   "outputs": [],
   "source": [
    "# Make a directory for every bird in the list in the training and validation directories\n",
    "for bird in birds:\n",
    "    if not os.path.exists(raw_dir + bird + '\\\\'):\n",
    "        os.makedirs(raw_dir + bird + '\\\\')\n",
    "    if not os.path.exists(training_dir + bird + '\\\\'):\n",
    "        os.makedirs(training_dir + bird + '\\\\')\n",
    "    if not os.path.exists(validation_dir + bird + '\\\\'):\n",
    "        os.makedirs(validation_dir + bird + '\\\\')"
   ]
  },
  {
   "cell_type": "code",
   "execution_count": null,
   "metadata": {},
   "outputs": [],
   "source": [
    "# Get Images for each bird from Google Images\n",
    "for bird in tqdm(birds):\n",
    "    search_query = '\"' + bird + '\"' + \" bird\"\n",
    "    save_dir = raw_dir + '\\\\'+bird+'\\\\'\n",
    "    saved = ggl.google_image_download(search_query, save_dir, ggl_api_key, search_engine_id, n = num_images, name = bird, db_name = db_name)\n",
    "    if saved != num_images:\n",
    "        print(bird + \" saved \" + saved + \" not \" + num_images)"
   ]
  },
  {
   "cell_type": "code",
   "execution_count": null,
   "metadata": {},
   "outputs": [],
   "source": [
    "# Counts directories for correct number of images\n",
    "def count_jpg_images(folder_path, n):\n",
    "    \"\"\" Checks whether every subfolder within the given folder has n number of JPG files within it.\n",
    "        Raises an exception when a discrepancy is found.\n",
    "        \n",
    "    Args:\n",
    "        folder_path (str): Path to folder\n",
    "        n (int): number of JPGs to be found in each sub-directory\n",
    "\n",
    "    Raises:\n",
    "        Exception: Raised when the incorrect number of files are in some child directories \n",
    "    \"\"\"    \n",
    "    e = False\n",
    "    jpg_count = 0\n",
    "    for root, dirs, files in os.walk(folder_path):\n",
    "        if root == folder_path:\n",
    "            continue\n",
    "        for file in files:\n",
    "            if file.lower().endswith('.jpg'):\n",
    "                jpg_count += 1\n",
    "        folder_name = os.path.basename(root)\n",
    "        if jpg_count != n:\n",
    "            print( \"Error: Folder: \" + folder_name + \" doen't have \" + str(n) + \" entries.\\n\\t\" + str(jpg_count) + \" entries were found instead.\")\n",
    "            e = True\n",
    "        jpg_count = 0\n",
    "    if e:\n",
    "        raise Exception(\"Error: Incorrect number of files in some directories!\")\n",
    "count_jpg_images(raw_dir, num_images)"
   ]
  },
  {
   "cell_type": "code",
   "execution_count": null,
   "metadata": {},
   "outputs": [],
   "source": [
    "# Normalize Every Image to RGB\n",
    "for image_path in glob.glob(raw_dir + '*\\\\*.jpg'):\n",
    "    try:\n",
    "        image = Image.open(image_path)\n",
    "        image = image.convert(\"RGB\")\n",
    "        image.save(image_path.replace(raw_dir, training_dir))\n",
    "    except Exception as e:\n",
    "        print(f\"ERROR: \", image_path)\n",
    "        print(e)"
   ]
  },
  {
   "cell_type": "code",
   "execution_count": null,
   "metadata": {},
   "outputs": [],
   "source": [
    "# Make Training and Validation Split\n",
    "for bird in birds:\n",
    "    val_imgs = []\n",
    "    num = None\n",
    "    while len(val_imgs) < int(num_images * validation_split):\n",
    "        num = random.randint(1, num_images)\n",
    "        if num not in val_imgs:\n",
    "            val_imgs.append(num)\n",
    "            shutil.move(os.path.join(training_dir,bird, bird + str(num) + '.jpg'),\n",
    "                        os.path.join(validation_dir, bird, bird + str(num) + '.jpg'))\n",
    "        "
   ]
  }
 ],
 "metadata": {
  "kernelspec": {
   "display_name": "birds",
   "language": "python",
   "name": "python3"
  },
  "language_info": {
   "codemirror_mode": {
    "name": "ipython",
    "version": 3
   },
   "file_extension": ".py",
   "mimetype": "text/x-python",
   "name": "python",
   "nbconvert_exporter": "python",
   "pygments_lexer": "ipython3",
   "version": "3.11.4"
  },
  "orig_nbformat": 4
 },
 "nbformat": 4,
 "nbformat_minor": 2
}
