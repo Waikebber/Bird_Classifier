{
 "cells": [
  {
   "cell_type": "code",
   "execution_count": 4,
   "metadata": {},
   "outputs": [],
   "source": [
    "import os, string\n",
    "import ggl_img_scraper as ggl\n",
    "from tqdm import tqdm\n",
    "from utils import *"
   ]
  },
  {
   "cell_type": "code",
   "execution_count": 5,
   "metadata": {},
   "outputs": [],
   "source": [
    "# Necessary inputs\n",
    "ggl_api_key = ''\n",
    "search_engine_id = 'f1aca5d66c8d4435c'\n",
    "\n",
    "raw_dir = '..\\\\data\\\\raw\\\\'\n",
    "training_dir = '..\\\\data\\\\training\\\\'\n",
    "validation_dir = '..\\\\data\\\\validation\\\\'\n",
    "\n",
    "validation_split = .15  # Takes images for validation\n",
    "\n",
    "num_images = 75\n",
    "birds_txt = '..\\\\data\\\\bird_lists\\\\bay_area_birds.txt'\n",
    "db_name = \".\\\\bird_im_urls.db\"\n",
    "\n",
    "buffer = 5\n",
    "clear_dirs = True\n",
    "remove_db = True"
   ]
  },
  {
   "cell_type": "code",
   "execution_count": null,
   "metadata": {},
   "outputs": [],
   "source": [
    "## Clear dir\n",
    "if clear_dirs:\n",
    "    clear_dir(raw_dir, [])\n",
    "    clear_dir(training_dir, [])\n",
    "    clear_dir(validation_dir, [])\n",
    "if remove_db and os.path.exists(db_name):\n",
    "    os.remove(db_name)\n",
    "    if os.path.exists(db_name+\"-journal\"):\n",
    "        os.remove(db_name+\"-journal\")"
   ]
  },
  {
   "cell_type": "code",
   "execution_count": null,
   "metadata": {},
   "outputs": [],
   "source": [
    "# Read-in txt file of bird names\n",
    "# File must be new-line delimited\n",
    "birds = []\n",
    "with open(birds_txt) as f:\n",
    "    if f.readable() is False:\n",
    "        raise FileNotFoundError(\"ERROR: File is not a readable file.\")\n",
    "    birds = f.readlines()\n",
    "birds = [ string.capwords(x.strip()) for x in birds]\n",
    "birds.sort()"
   ]
  },
  {
   "cell_type": "code",
   "execution_count": null,
   "metadata": {},
   "outputs": [],
   "source": [
    "# Make a directory for every bird in the list in the training and validation directories\n",
    "for bird in birds:\n",
    "    if not os.path.exists(raw_dir + bird + '\\\\'):\n",
    "        os.makedirs(raw_dir + bird + '\\\\')\n",
    "    if not os.path.exists(training_dir + bird + '\\\\'):\n",
    "        os.makedirs(training_dir + bird + '\\\\')\n",
    "    if not os.path.exists(validation_dir + bird + '\\\\'):\n",
    "        os.makedirs(validation_dir + bird + '\\\\')"
   ]
  },
  {
   "cell_type": "code",
   "execution_count": null,
   "metadata": {},
   "outputs": [],
   "source": [
    "retry_lst = {}"
   ]
  },
  {
   "cell_type": "code",
   "execution_count": null,
   "metadata": {},
   "outputs": [],
   "source": [
    "# Get Images for each bird from Google Images\n",
    "for bird in tqdm(birds):\n",
    "    search_query = f\"real '{str(bird).strip()}' bird -drawing -map -cartoon -logo -baby -egg -painting -pattern -illustration -art -similar -information -creative -general -book -math -product -food -feed -help -zoologist -list -bingo -tattoo -ranch -cowboy\"\n",
    "    save_dir = raw_dir + '\\\\'+bird+'\\\\'\n",
    "    saved = ggl.google_image_download(query=search_query, save_directory=save_dir, api_key=ggl_api_key, cx=search_engine_id, n=num_images, name=bird, db_name=db_name,delay=None, mute=True)\n",
    "    if (len(saved)+buffer)  < num_images:\n",
    "        retry_lst[bird] = saved"
   ]
  },
  {
   "cell_type": "code",
   "execution_count": null,
   "metadata": {},
   "outputs": [],
   "source": [
    "# Counts directories for correct number of images\n",
    "count_jpg_images(raw_dir, num_images, buffer = buffer,raise_e = False)"
   ]
  },
  {
   "cell_type": "code",
   "execution_count": null,
   "metadata": {},
   "outputs": [],
   "source": [
    "print(len(retry_lst))\n",
    "print(retry_lst)"
   ]
  },
  {
   "cell_type": "markdown",
   "metadata": {},
   "source": [
    "### MANUALLY REMOVE BAD TRAINING DATA\n",
    "### Fix any error that could have occured"
   ]
  },
  {
   "cell_type": "code",
   "execution_count": null,
   "metadata": {},
   "outputs": [],
   "source": [
    "# Retry getting images for brids in the list with a slightly different query\n",
    "for bird in tqdm(retry_lst.keys()):\n",
    "    search_query = str(bird)\n",
    "    save_dir = raw_dir + '\\\\'+str(bird)+'\\\\'\n",
    "    saved = ggl.google_image_download(query=search_query, save_directory=save_dir, api_key=ggl_api_key, cx=search_engine_id, n=num_images, name=bird, db_name=db_name,delay=None, exclude_urls=retry_lst[bird])\n",
    "    if (len(saved)+buffer) < num_images:\n",
    "        print(saved)\n",
    "        print(bird + \" saved \" + str(len(saved)) + \" not \" + str(num_images))\n",
    "    "
   ]
  },
  {
   "cell_type": "code",
   "execution_count": 6,
   "metadata": {},
   "outputs": [],
   "source": [
    "# Normalize Every Image to RGB\n",
    "confirm_image_readability(raw_dir, training_dir)"
   ]
  },
  {
   "cell_type": "code",
   "execution_count": null,
   "metadata": {},
   "outputs": [],
   "source": [
    "# Make Training and Validation Split\n",
    "for bird in birds:\n",
    "    move_random_files(os.path.join(training_dir,bird), \n",
    "                      os.path.join(validation_dir,bird), \n",
    "                      round(num_images * validation_split))"
   ]
  },
  {
   "cell_type": "code",
   "execution_count": null,
   "metadata": {},
   "outputs": [],
   "source": [
    "confirm_image_readability(validation_dir)"
   ]
  }
 ],
 "metadata": {
  "kernelspec": {
   "display_name": "birds",
   "language": "python",
   "name": "python3"
  },
  "language_info": {
   "codemirror_mode": {
    "name": "ipython",
    "version": 3
   },
   "file_extension": ".py",
   "mimetype": "text/x-python",
   "name": "python",
   "nbconvert_exporter": "python",
   "pygments_lexer": "ipython3",
   "version": "3.9.17"
  },
  "orig_nbformat": 4
 },
 "nbformat": 4,
 "nbformat_minor": 2
}
